{
  "nbformat": 4,
  "nbformat_minor": 0,
  "metadata": {
    "colab": {
      "provenance": [],
      "collapsed_sections": [
        "woS6QlD6N2gT",
        "T40GJ8czH8rf",
        "xSfB7P5JPlT8",
        "eQTM08NYWn2Q",
        "p42aTOJgWn2Q",
        "2LjIca_-bmuE",
        "OMDi89PUbmuE",
        "pAt5xFmubmuE",
        "F-XmmCe1bmuE"
      ],
      "toc_visible": true,
      "mount_file_id": "1S6VXMRCIlC26bdjbXz3Dv-MIkgBMP3Op",
      "authorship_tag": "ABX9TyMlwWlM85eGdpMLd3G6KyeU",
      "include_colab_link": true
    },
    "kernelspec": {
      "name": "python3",
      "display_name": "Python 3"
    },
    "language_info": {
      "name": "python"
    }
  },
  "cells": [
    {
      "cell_type": "markdown",
      "metadata": {
        "id": "view-in-github",
        "colab_type": "text"
      },
      "source": [
        "<a href=\"https://colab.research.google.com/github/James-Yuichi-Sato/swiss-bracket/blob/main/Swiss_Runner.ipynb\" target=\"_parent\"><img src=\"https://colab.research.google.com/assets/colab-badge.svg\" alt=\"Open In Colab\"/></a>"
      ]
    },
    {
      "cell_type": "markdown",
      "source": [
        "# Backend"
      ],
      "metadata": {
        "id": "UwoW0af1Humk"
      }
    },
    {
      "cell_type": "markdown",
      "source": [
        "## Player Class"
      ],
      "metadata": {
        "id": "s8f9ZkKiGooQ"
      }
    },
    {
      "cell_type": "code",
      "source": [
        "class Player():\n",
        "  def __init__(self, name:str = \"\", id:int = 0):\n",
        "    self.name = name\n",
        "    self.id = id\n",
        "    self.opponents = []\n",
        "    self.wins = 0\n",
        "    self.games = 0\n",
        "    self.rounds = 0\n",
        "    self.win_rate = None\n",
        "    self.had_bye = False\n",
        "  \n",
        "  def get_win_rate(self):\n",
        "    try:\n",
        "      self.win_rate = float(self.wins/self.rounds)\n",
        "    except Exception:\n",
        "      self.win_rate = 0\n",
        "    return self.win_rate\n",
        "\n",
        "  def add_win(self, opp_id:int):\n",
        "    self.wins += 1\n",
        "    self.games += 1\n",
        "    self.rounds += 1\n",
        "    self.opponents.append(opp_id)\n",
        "    return self.get_win_rate()\n",
        "  \n",
        "  def add_bye(self):\n",
        "    self.wins += 1\n",
        "    self.games += 1\n",
        "    self.had_bye = True\n",
        "    return self.get_win_rate()\n",
        "  \n",
        "  def add_loss(self, opp_id:int):\n",
        "    self.rounds += 1\n",
        "    self.games += 1\n",
        "    self.opponents.append(opp_id)\n",
        "    return self.get_win_rate()\n"
      ],
      "metadata": {
        "id": "WYNNnKQPJCvq"
      },
      "execution_count": 319,
      "outputs": []
    },
    {
      "cell_type": "markdown",
      "source": [
        "## Swiss Bracket Class"
      ],
      "metadata": {
        "id": "NOgZReLnGu9f"
      }
    },
    {
      "cell_type": "code",
      "source": [
        "import json, math, os\n",
        "from collections import OrderedDict\n",
        "from statistics import mean\n",
        "\n",
        "class Swiss():\n",
        "  \"\"\"Swiss Bracket System\n",
        "    Swiss Bracket System that assumes there are no ties.\n",
        "    Follows the Monrad System\n",
        "    https://en.wikipedia.org/wiki/Swiss-system_tournament#Monrad_system\n",
        "    \"\"\"\n",
        "  def __init__(self, player_list = []):\n",
        "    \"\"\"Swiss Bracket Initialization\n",
        "    Parameters:\n",
        "    player_list (list(str)): List of Player Names to Put in the bracket\n",
        "\n",
        "    Returns:\n",
        "    None\n",
        "    \"\"\"\n",
        "    self.player_database = OrderedDict()\n",
        "    self.num_players = 0\n",
        "    self.rounds = 0\n",
        "    self.matchup_number = 1\n",
        "    self.backup = {\"players\": {}, \"brackets\": {}, \"drops\": {}, \"results\": {}}\n",
        "    self.dropped_players = []\n",
        "    for player in player_list:\n",
        "      self.add_player(player)\n",
        "    self.forecast_rounds()\n",
        "\n",
        "  def __len__(self):\n",
        "    return self.num_players\n",
        "\n",
        "  def _calculate_opponent_win_rate(self, player_ids):\n",
        "    wrs = []\n",
        "    for id in player_ids:\n",
        "      wrs.append(self.player_database[id].get_win_rate())\n",
        "    if not wrs:\n",
        "      return 0\n",
        "    return mean(wrs)\n",
        "\n",
        "  def _generate_first_bracket(self):\n",
        "    self.current_bracket = {\"match_id\": {\"Player 1\": \"player_id\", \"Player 2\": \"player_id\", \"type\": \"match_or_bye\"}}\n",
        "    paired_ids = []\n",
        "    ranked_ids = list(self.player_database.keys())\n",
        "    for i in range(len(ranked_ids)):\n",
        "      player_1_id = ranked_ids[i]\n",
        "      not_bye = True\n",
        "      if player_1_id not in self.dropped_players and player_1_id not in paired_ids:\n",
        "        j = i+1\n",
        "        try:\n",
        "          player_2_id = ranked_ids[j]\n",
        "        except:\n",
        "          not_bye = False\n",
        "        while player_2_id in self.dropped_players and not_bye:\n",
        "          j += 1\n",
        "          try:\n",
        "            player_2_id = ranked_ids[j]\n",
        "          except:\n",
        "            not_bye = False\n",
        "        if player_2_id in self.player_database.keys() and not_bye:\n",
        "          matchup = {\"Player 1\": player_1_id, \"Player 2\": player_2_id, \"type\": \"match\"}\n",
        "          paired_ids.append(player_1_id)\n",
        "          paired_ids.append(player_2_id)\n",
        "          self.current_bracket[self.matchup_number] = matchup\n",
        "        else:\n",
        "          matchup = {\"Player 1\": player_1_id, \"Player 2\": \"None\", \"type\": \"bye\"}\n",
        "          paired_ids.append(player_1_id)\n",
        "          self.current_bracket[self.matchup_number] = matchup\n",
        "        self.matchup_number += 1\n",
        "    try:\n",
        "      self.current_bracket.pop(\"match_id\")\n",
        "    except:\n",
        "      print(\"Key Not In Dictionary\")\n",
        "\n",
        "  def _verify_results(self, results: dict):\n",
        "    if sorted(self.current_bracket.keys()) != sorted(results.keys()):\n",
        "      return False\n",
        "    for match_num, pairing in self.current_bracket.items():\n",
        "      if results[match_num] not in pairing.values():\n",
        "        return False\n",
        "    return True\n",
        "\n",
        "  def generate_bracket(self):\n",
        "    \"\"\"Generates the next bracket and outputs to console\n",
        "    Parameters:\n",
        "    None\n",
        "\n",
        "    Returns:\n",
        "    None\n",
        "    \"\"\"\n",
        "    if self.rounds == 0:\n",
        "      self._generate_first_bracket()\n",
        "    else:\n",
        "      self.list_rankings();\n",
        "      self._generate_first_bracket()\n",
        "    self.backup[\"brackets\"][self.rounds+1] = self.current_bracket\n",
        "    self.announce_bracket()\n",
        "\n",
        "  def announce_bracket(self):\n",
        "    \"\"\"Outputs the current bracket to console\n",
        "    Parameters:\n",
        "    None\n",
        "\n",
        "    Returns:\n",
        "    None\n",
        "    \"\"\"\n",
        "    print(f\"----------------------------------\")\n",
        "    print(f\"Brackets for Round {self.rounds+1}\")\n",
        "    print(f\"----------------------------------\")\n",
        "    for match_number, pairing in self.current_bracket.items():\n",
        "      print(f\"Match Number: {match_number}\")\n",
        "      for name, player_id in pairing.items():\n",
        "        if name == \"type\":\n",
        "          continue\n",
        "        if player_id == \"None\":\n",
        "          print(\"---BYE---\")\n",
        "          print(f\"------------------\")\n",
        "          continue\n",
        "        player = self.player_database[player_id]\n",
        "        print(f\"---{name}---\")\n",
        "        print(f\"Name: {player.name}\")\n",
        "        print(f\"ID: {player.id}\")\n",
        "        print(f\"Games Won: {player.wins}\")\n",
        "        op_wr = self._calculate_opponent_win_rate(player.opponents)\n",
        "        print(f\"Opponents' WR: {op_wr}\")\n",
        "      print(f\"------------------\")\n",
        "\n",
        "  def print_rankings(self):\n",
        "    \"\"\"Orders the participant list by ranking and output to console\n",
        "    Parameters:\n",
        "    None\n",
        "\n",
        "    Returns:\n",
        "    None\n",
        "    \"\"\"\n",
        "    self.list_rankings()\n",
        "    place_num = 1\n",
        "    print(f\"------------------\")\n",
        "    for id, player_class in self.player_database.items():\n",
        "      if id in self.dropped_players:\n",
        "        continue\n",
        "      print(f\"{place_num} Ranked\")\n",
        "      print(f\"Player Name: {player_class.name}\")\n",
        "      print(f\"Player ID: {player_class.id}\")\n",
        "      print(f\"Games Won: {player_class.wins}\")\n",
        "      print(f\"Rounds Played: {player_class.rounds}\")\n",
        "      opp_wr = self._calculate_opponent_win_rate(player_class.opponents)\n",
        "      print(f\"Opponents' WR: {opp_wr}\")\n",
        "      print(f\"------------------\")\n",
        "      place_num += 1\n",
        "\n",
        "  def report_results(self, results: dict):\n",
        "    \"\"\"Report results for the most recently generated bracket\n",
        "\n",
        "    Parameters:\n",
        "    results (dict): Results of matchups in Match ID: Player ID pairs\n",
        "                    Bye matches MUST be designated to the Bye player\n",
        "\n",
        "    Returns:\n",
        "    None\n",
        "    \"\"\"\n",
        "    if not self._verify_results(results):\n",
        "      print(\"Invalid Results, Check and Retry\")\n",
        "      return False\n",
        "    print(\"Valid Results, Saving Results\")\n",
        "    for match_id, winner_id in results.items():\n",
        "      if self.current_bracket[match_id][\"type\"] == \"bye\":\n",
        "        self.player_database[winner_id].add_bye()\n",
        "        continue\n",
        "      player_1_id = self.current_bracket[match_id][\"Player 1\"]\n",
        "      player_2_id = self.current_bracket[match_id][\"Player 2\"]\n",
        "      if winner_id == player_1_id:\n",
        "        self.player_database[player_1_id].add_win(player_2_id)\n",
        "        self.player_database[player_2_id].add_loss(player_1_id)\n",
        "      else:\n",
        "        self.player_database[player_2_id].add_win(player_1_id)\n",
        "        self.player_database[player_1_id].add_loss(player_2_id)\n",
        "    self.backup[\"results\"][self.rounds]=results\n",
        "    print(\"Results saved, ready to generate next round or add/drop players\")\n",
        "    self.rounds += 1\n",
        "    return True\n",
        "\n",
        "  def save_backup(self, filename):\n",
        "    filepath = os.path.join(os.getcwd(), filename)\n",
        "    print(filepath)\n",
        "    with open(filepath, \"w\") as outfile:\n",
        "      json.dump(self.backup, outfile, indent=4)\n",
        "\n",
        "  def forecast_rounds(self):\n",
        "    \"\"\"Outputs the expected number of rounds for this bracket\n",
        "    Parameters:\n",
        "    None\n",
        "\n",
        "    Returns:\n",
        "    None\n",
        "    \"\"\"\n",
        "    self.expected_rounds = math.ceil(math.log(self.num_players, 2))\n",
        "    print(f\"Expecting {self.expected_rounds} rounds today\")\n",
        "\n",
        "  def add_player(self, player_name):\n",
        "    \"\"\"Add a player from the Swiss Bracket\n",
        "    Parameters:\n",
        "    player_name (str): The name of the Player\n",
        "                       Results can be verified with list_player_data()\n",
        "\n",
        "    Returns:\n",
        "    None\n",
        "    \"\"\"\n",
        "    self.player_database[self.num_players] = Player(player_name, self.num_players)\n",
        "    self.backup[\"players\"][self.num_players] = player_name\n",
        "    print(f\"Player: {player_name} - ID: {self.num_players}\")\n",
        "    self.num_players += 1\n",
        "\n",
        "  def drop_player(self, player_id):\n",
        "    \"\"\"Drops a player from the Swiss Bracket\n",
        "    Parameters:\n",
        "    player_id (int): The ID of the Player, can be obtained with list_player_data()\n",
        "\n",
        "    Returns:\n",
        "    None\n",
        "    \"\"\"\n",
        "    self.dropped_players.append(player_id)\n",
        "    self.backup[\"drops\"][player_id] = {\"Name\": self.player_database[player_id].name, \"Round\": self.rounds}\n",
        "    self.player_database[player_id].name = \"DROPPED - \" + self.player_database[player_id].name \n",
        "    print(f\"{self.player_database[player_id].name} - ID: {player_id} - Removed from future brackets\")\n",
        "  \n",
        "  def list_player_data(self):\n",
        "    \"\"\"Prints out the current list of players in any random order\n",
        "    Parameters:\n",
        "    None\n",
        "\n",
        "    Returns:\n",
        "    None\n",
        "    \"\"\"\n",
        "    print(f\"------------------\")\n",
        "    for id, player_class in self.player_database.items():\n",
        "      print(f\"Player Name: {player_class.name}\")\n",
        "      print(f\"Player ID: {player_class.id}\")\n",
        "      print(f\"Games Won: {player_class.wins}\")\n",
        "      print(f\"Rounds Played: {player_class.rounds}\")\n",
        "      wr = player_class.get_win_rate()\n",
        "      print(f\"Win Rate: {wr}\")\n",
        "      print(f\"------------------\")\n",
        "  \n",
        "  def list_rankings(self):\n",
        "    \"\"\"Orders the participant list by ranking\n",
        "    Parameters:\n",
        "    None\n",
        "\n",
        "    Returns:\n",
        "    None\n",
        "    \"\"\"\n",
        "    players_ranked = []\n",
        "    for i in range(self.rounds, -1, -1):\n",
        "      players_sublist = {player_class: self._calculate_opponent_win_rate(player_class.opponents) for player_class in self.player_database.values() if player_class.wins == i}\n",
        "      players_sublist = sorted(players_sublist.items(), key=lambda x:x[1], reverse=True)\n",
        "      players_sublist = [(player_object[0].id, player_object[0]) for player_object in players_sublist]\n",
        "      players_ranked.extend(players_sublist)\n",
        "    self.player_database = OrderedDict(players_ranked)"
      ],
      "metadata": {
        "id": "kNL2Xd8pO48C"
      },
      "execution_count": 353,
      "outputs": []
    },
    {
      "cell_type": "markdown",
      "source": [
        "# Setup Bracket"
      ],
      "metadata": {
        "id": "woS6QlD6N2gT"
      }
    },
    {
      "cell_type": "code",
      "source": [
        "players = ['a', 'b', 'c', 'd','e','f','g','h','i','j','k','l','m',]"
      ],
      "metadata": {
        "id": "gN2lgB8GJmb6"
      },
      "execution_count": 354,
      "outputs": []
    },
    {
      "cell_type": "code",
      "source": [
        "bracket = Swiss(players)\n",
        "bracket.drop_player(3)\n",
        "bracket.add_player('n')"
      ],
      "metadata": {
        "colab": {
          "base_uri": "https://localhost:8080/"
        },
        "id": "LRtqDxLwMzpy",
        "outputId": "0d830b3e-0723-4104-8848-b8dbea8a2b5c"
      },
      "execution_count": 355,
      "outputs": [
        {
          "output_type": "stream",
          "name": "stdout",
          "text": [
            "Player: a - ID: 0\n",
            "Player: b - ID: 1\n",
            "Player: c - ID: 2\n",
            "Player: d - ID: 3\n",
            "Player: e - ID: 4\n",
            "Player: f - ID: 5\n",
            "Player: g - ID: 6\n",
            "Player: h - ID: 7\n",
            "Player: i - ID: 8\n",
            "Player: j - ID: 9\n",
            "Player: k - ID: 10\n",
            "Player: l - ID: 11\n",
            "Player: m - ID: 12\n",
            "Expecting 4 rounds today\n",
            "DROPPED - d - ID: 3 - Removed from future brackets\n",
            "Player: n - ID: 13\n"
          ]
        }
      ]
    },
    {
      "cell_type": "markdown",
      "source": [
        "# First Bracket"
      ],
      "metadata": {
        "id": "APs_99FKNqBg"
      }
    },
    {
      "cell_type": "markdown",
      "source": [
        "## Generate Bracket"
      ],
      "metadata": {
        "id": "eGBb3fsWH6Qg"
      }
    },
    {
      "cell_type": "code",
      "source": [
        "bracket.generate_bracket()"
      ],
      "metadata": {
        "colab": {
          "base_uri": "https://localhost:8080/"
        },
        "id": "IQv2-X_kNeDR",
        "outputId": "689f09bb-a9a8-4149-ce19-5af53c5d8637"
      },
      "execution_count": 356,
      "outputs": [
        {
          "output_type": "stream",
          "name": "stdout",
          "text": [
            "----------------------------------\n",
            "Brackets for Round 1\n",
            "----------------------------------\n",
            "Match Number: 1\n",
            "---Player 1---\n",
            "Name: a\n",
            "ID: 0\n",
            "Games Won: 0\n",
            "Opponents' WR: 0\n",
            "---Player 2---\n",
            "Name: b\n",
            "ID: 1\n",
            "Games Won: 0\n",
            "Opponents' WR: 0\n",
            "------------------\n",
            "Match Number: 2\n",
            "---Player 1---\n",
            "Name: c\n",
            "ID: 2\n",
            "Games Won: 0\n",
            "Opponents' WR: 0\n",
            "---Player 2---\n",
            "Name: e\n",
            "ID: 4\n",
            "Games Won: 0\n",
            "Opponents' WR: 0\n",
            "------------------\n",
            "Match Number: 3\n",
            "---Player 1---\n",
            "Name: f\n",
            "ID: 5\n",
            "Games Won: 0\n",
            "Opponents' WR: 0\n",
            "---Player 2---\n",
            "Name: g\n",
            "ID: 6\n",
            "Games Won: 0\n",
            "Opponents' WR: 0\n",
            "------------------\n",
            "Match Number: 4\n",
            "---Player 1---\n",
            "Name: h\n",
            "ID: 7\n",
            "Games Won: 0\n",
            "Opponents' WR: 0\n",
            "---Player 2---\n",
            "Name: i\n",
            "ID: 8\n",
            "Games Won: 0\n",
            "Opponents' WR: 0\n",
            "------------------\n",
            "Match Number: 5\n",
            "---Player 1---\n",
            "Name: j\n",
            "ID: 9\n",
            "Games Won: 0\n",
            "Opponents' WR: 0\n",
            "---Player 2---\n",
            "Name: k\n",
            "ID: 10\n",
            "Games Won: 0\n",
            "Opponents' WR: 0\n",
            "------------------\n",
            "Match Number: 6\n",
            "---Player 1---\n",
            "Name: l\n",
            "ID: 11\n",
            "Games Won: 0\n",
            "Opponents' WR: 0\n",
            "---Player 2---\n",
            "Name: m\n",
            "ID: 12\n",
            "Games Won: 0\n",
            "Opponents' WR: 0\n",
            "------------------\n",
            "Match Number: 7\n",
            "---Player 1---\n",
            "Name: n\n",
            "ID: 13\n",
            "Games Won: 0\n",
            "Opponents' WR: 0\n",
            "---BYE---\n",
            "------------------\n",
            "------------------\n"
          ]
        }
      ]
    },
    {
      "cell_type": "markdown",
      "source": [
        "## Report Bracket"
      ],
      "metadata": {
        "id": "T40GJ8czH8rf"
      }
    },
    {
      "cell_type": "code",
      "source": [
        "results = {1: 0, 2: 2, 3:5, 4: 7, 5: 9, 6: 11, 7: 13}\n",
        "bracket.report_results(results)"
      ],
      "metadata": {
        "colab": {
          "base_uri": "https://localhost:8080/"
        },
        "id": "SxhIJY4oIBcB",
        "outputId": "bb2e5548-6a31-4b87-a622-a589fc51224a"
      },
      "execution_count": 357,
      "outputs": [
        {
          "output_type": "stream",
          "name": "stdout",
          "text": [
            "Valid Results, Saving Results\n",
            "Results saved, ready to generate next round or add/drop players\n"
          ]
        },
        {
          "output_type": "execute_result",
          "data": {
            "text/plain": [
              "True"
            ]
          },
          "metadata": {},
          "execution_count": 357
        }
      ]
    },
    {
      "cell_type": "markdown",
      "source": [
        "## Check Results"
      ],
      "metadata": {
        "id": "xSfB7P5JPlT8"
      }
    },
    {
      "cell_type": "code",
      "source": [
        "bracket.print_rankings()"
      ],
      "metadata": {
        "colab": {
          "base_uri": "https://localhost:8080/"
        },
        "id": "isTEyzxFPm98",
        "outputId": "74aff38e-81b5-4ddc-b4af-295df82f73f0"
      },
      "execution_count": 358,
      "outputs": [
        {
          "output_type": "stream",
          "name": "stdout",
          "text": [
            "------------------\n",
            "1 Ranked\n",
            "Player Name: a\n",
            "Player ID: 0\n",
            "Games Won: 1\n",
            "Rounds Played: 1\n",
            "Opponents' WR: 0.0\n",
            "------------------\n",
            "2 Ranked\n",
            "Player Name: c\n",
            "Player ID: 2\n",
            "Games Won: 1\n",
            "Rounds Played: 1\n",
            "Opponents' WR: 0.0\n",
            "------------------\n",
            "3 Ranked\n",
            "Player Name: f\n",
            "Player ID: 5\n",
            "Games Won: 1\n",
            "Rounds Played: 1\n",
            "Opponents' WR: 0.0\n",
            "------------------\n",
            "4 Ranked\n",
            "Player Name: h\n",
            "Player ID: 7\n",
            "Games Won: 1\n",
            "Rounds Played: 1\n",
            "Opponents' WR: 0.0\n",
            "------------------\n",
            "5 Ranked\n",
            "Player Name: j\n",
            "Player ID: 9\n",
            "Games Won: 1\n",
            "Rounds Played: 1\n",
            "Opponents' WR: 0.0\n",
            "------------------\n",
            "6 Ranked\n",
            "Player Name: l\n",
            "Player ID: 11\n",
            "Games Won: 1\n",
            "Rounds Played: 1\n",
            "Opponents' WR: 0.0\n",
            "------------------\n",
            "7 Ranked\n",
            "Player Name: n\n",
            "Player ID: 13\n",
            "Games Won: 1\n",
            "Rounds Played: 0\n",
            "Opponents' WR: 0\n",
            "------------------\n",
            "8 Ranked\n",
            "Player Name: b\n",
            "Player ID: 1\n",
            "Games Won: 0\n",
            "Rounds Played: 1\n",
            "Opponents' WR: 1.0\n",
            "------------------\n",
            "9 Ranked\n",
            "Player Name: e\n",
            "Player ID: 4\n",
            "Games Won: 0\n",
            "Rounds Played: 1\n",
            "Opponents' WR: 1.0\n",
            "------------------\n",
            "10 Ranked\n",
            "Player Name: g\n",
            "Player ID: 6\n",
            "Games Won: 0\n",
            "Rounds Played: 1\n",
            "Opponents' WR: 1.0\n",
            "------------------\n",
            "11 Ranked\n",
            "Player Name: i\n",
            "Player ID: 8\n",
            "Games Won: 0\n",
            "Rounds Played: 1\n",
            "Opponents' WR: 1.0\n",
            "------------------\n",
            "12 Ranked\n",
            "Player Name: k\n",
            "Player ID: 10\n",
            "Games Won: 0\n",
            "Rounds Played: 1\n",
            "Opponents' WR: 1.0\n",
            "------------------\n",
            "13 Ranked\n",
            "Player Name: m\n",
            "Player ID: 12\n",
            "Games Won: 0\n",
            "Rounds Played: 1\n",
            "Opponents' WR: 1.0\n",
            "------------------\n"
          ]
        }
      ]
    },
    {
      "cell_type": "markdown",
      "source": [
        "# Second Bracket"
      ],
      "metadata": {
        "id": "VJGKnDCtWn2P"
      }
    },
    {
      "cell_type": "markdown",
      "source": [
        "## Generate Bracket"
      ],
      "metadata": {
        "id": "hrrkTtUGWn2P"
      }
    },
    {
      "cell_type": "code",
      "source": [
        "bracket.generate_bracket()"
      ],
      "metadata": {
        "colab": {
          "base_uri": "https://localhost:8080/"
        },
        "outputId": "ea58c730-83b2-4e91-dfb9-3caffdcc5a40",
        "id": "tZE8u0zUWn2Q"
      },
      "execution_count": 359,
      "outputs": [
        {
          "output_type": "stream",
          "name": "stdout",
          "text": [
            "----------------------------------\n",
            "Brackets for Round 2\n",
            "----------------------------------\n",
            "Match Number: 8\n",
            "---Player 1---\n",
            "Name: a\n",
            "ID: 0\n",
            "Games Won: 1\n",
            "Opponents' WR: 0.0\n",
            "---Player 2---\n",
            "Name: c\n",
            "ID: 2\n",
            "Games Won: 1\n",
            "Opponents' WR: 0.0\n",
            "------------------\n",
            "Match Number: 9\n",
            "---Player 1---\n",
            "Name: f\n",
            "ID: 5\n",
            "Games Won: 1\n",
            "Opponents' WR: 0.0\n",
            "---Player 2---\n",
            "Name: h\n",
            "ID: 7\n",
            "Games Won: 1\n",
            "Opponents' WR: 0.0\n",
            "------------------\n",
            "Match Number: 10\n",
            "---Player 1---\n",
            "Name: j\n",
            "ID: 9\n",
            "Games Won: 1\n",
            "Opponents' WR: 0.0\n",
            "---Player 2---\n",
            "Name: l\n",
            "ID: 11\n",
            "Games Won: 1\n",
            "Opponents' WR: 0.0\n",
            "------------------\n",
            "Match Number: 11\n",
            "---Player 1---\n",
            "Name: n\n",
            "ID: 13\n",
            "Games Won: 1\n",
            "Opponents' WR: 0\n",
            "---Player 2---\n",
            "Name: b\n",
            "ID: 1\n",
            "Games Won: 0\n",
            "Opponents' WR: 1.0\n",
            "------------------\n",
            "Match Number: 12\n",
            "---Player 1---\n",
            "Name: e\n",
            "ID: 4\n",
            "Games Won: 0\n",
            "Opponents' WR: 1.0\n",
            "---Player 2---\n",
            "Name: g\n",
            "ID: 6\n",
            "Games Won: 0\n",
            "Opponents' WR: 1.0\n",
            "------------------\n",
            "Match Number: 13\n",
            "---Player 1---\n",
            "Name: i\n",
            "ID: 8\n",
            "Games Won: 0\n",
            "Opponents' WR: 1.0\n",
            "---Player 2---\n",
            "Name: k\n",
            "ID: 10\n",
            "Games Won: 0\n",
            "Opponents' WR: 1.0\n",
            "------------------\n",
            "Match Number: 14\n",
            "---Player 1---\n",
            "Name: m\n",
            "ID: 12\n",
            "Games Won: 0\n",
            "Opponents' WR: 1.0\n",
            "---BYE---\n",
            "------------------\n",
            "------------------\n"
          ]
        }
      ]
    },
    {
      "cell_type": "markdown",
      "source": [
        "## Report Bracket"
      ],
      "metadata": {
        "id": "eQTM08NYWn2Q"
      }
    },
    {
      "cell_type": "code",
      "source": [
        "results = {8: 0, 9: 5, 10:9, 11: 13, 12: 4, 13: 8, 14: 12}\n",
        "bracket.report_results(results)"
      ],
      "metadata": {
        "colab": {
          "base_uri": "https://localhost:8080/"
        },
        "outputId": "ce42ce00-8323-43fc-8e9b-251891076454",
        "id": "HpD2pPeZWn2Q"
      },
      "execution_count": 360,
      "outputs": [
        {
          "output_type": "stream",
          "name": "stdout",
          "text": [
            "Valid Results, Saving Results\n",
            "Results saved, ready to generate next round or add/drop players\n"
          ]
        },
        {
          "output_type": "execute_result",
          "data": {
            "text/plain": [
              "True"
            ]
          },
          "metadata": {},
          "execution_count": 360
        }
      ]
    },
    {
      "cell_type": "markdown",
      "source": [
        "## Check Results"
      ],
      "metadata": {
        "id": "p42aTOJgWn2Q"
      }
    },
    {
      "cell_type": "code",
      "source": [
        "bracket.print_rankings()"
      ],
      "metadata": {
        "colab": {
          "base_uri": "https://localhost:8080/"
        },
        "outputId": "24a5e0ce-9e31-40a4-9f5d-79191dbd425a",
        "id": "x5HmqlPTWn2Q"
      },
      "execution_count": 361,
      "outputs": [
        {
          "output_type": "stream",
          "name": "stdout",
          "text": [
            "------------------\n",
            "1 Ranked\n",
            "Player Name: a\n",
            "Player ID: 0\n",
            "Games Won: 2\n",
            "Rounds Played: 2\n",
            "Opponents' WR: 0.25\n",
            "------------------\n",
            "2 Ranked\n",
            "Player Name: f\n",
            "Player ID: 5\n",
            "Games Won: 2\n",
            "Rounds Played: 2\n",
            "Opponents' WR: 0.25\n",
            "------------------\n",
            "3 Ranked\n",
            "Player Name: j\n",
            "Player ID: 9\n",
            "Games Won: 2\n",
            "Rounds Played: 2\n",
            "Opponents' WR: 0.25\n",
            "------------------\n",
            "4 Ranked\n",
            "Player Name: n\n",
            "Player ID: 13\n",
            "Games Won: 2\n",
            "Rounds Played: 1\n",
            "Opponents' WR: 0.0\n",
            "------------------\n",
            "5 Ranked\n",
            "Player Name: l\n",
            "Player ID: 11\n",
            "Games Won: 1\n",
            "Rounds Played: 2\n",
            "Opponents' WR: 1.0\n",
            "------------------\n",
            "6 Ranked\n",
            "Player Name: c\n",
            "Player ID: 2\n",
            "Games Won: 1\n",
            "Rounds Played: 2\n",
            "Opponents' WR: 0.75\n",
            "------------------\n",
            "7 Ranked\n",
            "Player Name: h\n",
            "Player ID: 7\n",
            "Games Won: 1\n",
            "Rounds Played: 2\n",
            "Opponents' WR: 0.75\n",
            "------------------\n",
            "8 Ranked\n",
            "Player Name: m\n",
            "Player ID: 12\n",
            "Games Won: 1\n",
            "Rounds Played: 1\n",
            "Opponents' WR: 0.5\n",
            "------------------\n",
            "9 Ranked\n",
            "Player Name: e\n",
            "Player ID: 4\n",
            "Games Won: 1\n",
            "Rounds Played: 2\n",
            "Opponents' WR: 0.25\n",
            "------------------\n",
            "10 Ranked\n",
            "Player Name: i\n",
            "Player ID: 8\n",
            "Games Won: 1\n",
            "Rounds Played: 2\n",
            "Opponents' WR: 0.25\n",
            "------------------\n",
            "11 Ranked\n",
            "Player Name: b\n",
            "Player ID: 1\n",
            "Games Won: 0\n",
            "Rounds Played: 2\n",
            "Opponents' WR: 1.5\n",
            "------------------\n",
            "12 Ranked\n",
            "Player Name: g\n",
            "Player ID: 6\n",
            "Games Won: 0\n",
            "Rounds Played: 2\n",
            "Opponents' WR: 0.75\n",
            "------------------\n",
            "13 Ranked\n",
            "Player Name: k\n",
            "Player ID: 10\n",
            "Games Won: 0\n",
            "Rounds Played: 2\n",
            "Opponents' WR: 0.75\n",
            "------------------\n"
          ]
        }
      ]
    },
    {
      "cell_type": "markdown",
      "source": [
        "# Third Bracket"
      ],
      "metadata": {
        "id": "2LjIca_-bmuE"
      }
    },
    {
      "cell_type": "markdown",
      "source": [
        "## Generate Bracket"
      ],
      "metadata": {
        "id": "OMDi89PUbmuE"
      }
    },
    {
      "cell_type": "code",
      "source": [
        "bracket.generate_bracket()"
      ],
      "metadata": {
        "colab": {
          "base_uri": "https://localhost:8080/"
        },
        "outputId": "5a74e2d6-59ba-4d68-c153-af628eaec8be",
        "id": "lTzpTAmJbmuE"
      },
      "execution_count": 362,
      "outputs": [
        {
          "output_type": "stream",
          "name": "stdout",
          "text": [
            "----------------------------------\n",
            "Brackets for Round 3\n",
            "----------------------------------\n",
            "Match Number: 15\n",
            "---Player 1---\n",
            "Name: a\n",
            "ID: 0\n",
            "Games Won: 2\n",
            "Opponents' WR: 0.25\n",
            "---Player 2---\n",
            "Name: f\n",
            "ID: 5\n",
            "Games Won: 2\n",
            "Opponents' WR: 0.25\n",
            "------------------\n",
            "Match Number: 16\n",
            "---Player 1---\n",
            "Name: j\n",
            "ID: 9\n",
            "Games Won: 2\n",
            "Opponents' WR: 0.25\n",
            "---Player 2---\n",
            "Name: n\n",
            "ID: 13\n",
            "Games Won: 2\n",
            "Opponents' WR: 0.0\n",
            "------------------\n",
            "Match Number: 17\n",
            "---Player 1---\n",
            "Name: l\n",
            "ID: 11\n",
            "Games Won: 1\n",
            "Opponents' WR: 1.0\n",
            "---Player 2---\n",
            "Name: c\n",
            "ID: 2\n",
            "Games Won: 1\n",
            "Opponents' WR: 0.75\n",
            "------------------\n",
            "Match Number: 18\n",
            "---Player 1---\n",
            "Name: h\n",
            "ID: 7\n",
            "Games Won: 1\n",
            "Opponents' WR: 0.75\n",
            "---Player 2---\n",
            "Name: m\n",
            "ID: 12\n",
            "Games Won: 1\n",
            "Opponents' WR: 0.5\n",
            "------------------\n",
            "Match Number: 19\n",
            "---Player 1---\n",
            "Name: e\n",
            "ID: 4\n",
            "Games Won: 1\n",
            "Opponents' WR: 0.25\n",
            "---Player 2---\n",
            "Name: i\n",
            "ID: 8\n",
            "Games Won: 1\n",
            "Opponents' WR: 0.25\n",
            "------------------\n",
            "Match Number: 20\n",
            "---Player 1---\n",
            "Name: b\n",
            "ID: 1\n",
            "Games Won: 0\n",
            "Opponents' WR: 1.5\n",
            "---Player 2---\n",
            "Name: g\n",
            "ID: 6\n",
            "Games Won: 0\n",
            "Opponents' WR: 0.75\n",
            "------------------\n",
            "Match Number: 21\n",
            "---Player 1---\n",
            "Name: k\n",
            "ID: 10\n",
            "Games Won: 0\n",
            "Opponents' WR: 0.75\n",
            "---BYE---\n",
            "------------------\n",
            "------------------\n"
          ]
        }
      ]
    },
    {
      "cell_type": "markdown",
      "source": [
        "## Report Bracket"
      ],
      "metadata": {
        "id": "pAt5xFmubmuE"
      }
    },
    {
      "cell_type": "code",
      "source": [
        "results = {15: 0, 16: 9, 17:11, 18: 7, 19: 4, 20: 1, 21: 10}\n",
        "bracket.report_results(results)"
      ],
      "metadata": {
        "colab": {
          "base_uri": "https://localhost:8080/"
        },
        "outputId": "0c011653-b782-4e12-fa57-10545d550afc",
        "id": "Cuwjs7YEbmuE"
      },
      "execution_count": 363,
      "outputs": [
        {
          "output_type": "stream",
          "name": "stdout",
          "text": [
            "Valid Results, Saving Results\n",
            "Results saved, ready to generate next round or add/drop players\n"
          ]
        },
        {
          "output_type": "execute_result",
          "data": {
            "text/plain": [
              "True"
            ]
          },
          "metadata": {},
          "execution_count": 363
        }
      ]
    },
    {
      "cell_type": "markdown",
      "source": [
        "## Check Results"
      ],
      "metadata": {
        "id": "F-XmmCe1bmuE"
      }
    },
    {
      "cell_type": "code",
      "source": [
        "bracket.print_rankings()"
      ],
      "metadata": {
        "colab": {
          "base_uri": "https://localhost:8080/"
        },
        "outputId": "c68eb05c-1b69-46de-b247-ac921b19f3dc",
        "id": "4xHffoiUbmuE"
      },
      "execution_count": 364,
      "outputs": [
        {
          "output_type": "stream",
          "name": "stdout",
          "text": [
            "------------------\n",
            "1 Ranked\n",
            "Player Name: j\n",
            "Player ID: 9\n",
            "Games Won: 3\n",
            "Rounds Played: 3\n",
            "Opponents' WR: 0.7222222222222222\n",
            "------------------\n",
            "2 Ranked\n",
            "Player Name: a\n",
            "Player ID: 0\n",
            "Games Won: 3\n",
            "Rounds Played: 3\n",
            "Opponents' WR: 0.4444444444444444\n",
            "------------------\n",
            "3 Ranked\n",
            "Player Name: n\n",
            "Player ID: 13\n",
            "Games Won: 2\n",
            "Rounds Played: 2\n",
            "Opponents' WR: 0.6666666666666666\n",
            "------------------\n",
            "4 Ranked\n",
            "Player Name: l\n",
            "Player ID: 11\n",
            "Games Won: 2\n",
            "Rounds Played: 3\n",
            "Opponents' WR: 0.6111111111111112\n",
            "------------------\n",
            "5 Ranked\n",
            "Player Name: f\n",
            "Player ID: 5\n",
            "Games Won: 2\n",
            "Rounds Played: 3\n",
            "Opponents' WR: 0.5555555555555556\n",
            "------------------\n",
            "6 Ranked\n",
            "Player Name: h\n",
            "Player ID: 7\n",
            "Games Won: 2\n",
            "Rounds Played: 3\n",
            "Opponents' WR: 0.5\n",
            "------------------\n",
            "7 Ranked\n",
            "Player Name: e\n",
            "Player ID: 4\n",
            "Games Won: 2\n",
            "Rounds Played: 3\n",
            "Opponents' WR: 0.2222222222222222\n",
            "------------------\n",
            "8 Ranked\n",
            "Player Name: c\n",
            "Player ID: 2\n",
            "Games Won: 1\n",
            "Rounds Played: 3\n",
            "Opponents' WR: 0.7777777777777778\n",
            "------------------\n",
            "9 Ranked\n",
            "Player Name: m\n",
            "Player ID: 12\n",
            "Games Won: 1\n",
            "Rounds Played: 2\n",
            "Opponents' WR: 0.6666666666666666\n",
            "------------------\n",
            "10 Ranked\n",
            "Player Name: b\n",
            "Player ID: 1\n",
            "Games Won: 1\n",
            "Rounds Played: 3\n",
            "Opponents' WR: 0.6666666666666666\n",
            "------------------\n",
            "11 Ranked\n",
            "Player Name: k\n",
            "Player ID: 10\n",
            "Games Won: 1\n",
            "Rounds Played: 2\n",
            "Opponents' WR: 0.6666666666666666\n",
            "------------------\n",
            "12 Ranked\n",
            "Player Name: i\n",
            "Player ID: 8\n",
            "Games Won: 1\n",
            "Rounds Played: 3\n",
            "Opponents' WR: 0.611111111111111\n",
            "------------------\n",
            "13 Ranked\n",
            "Player Name: g\n",
            "Player ID: 6\n",
            "Games Won: 0\n",
            "Rounds Played: 3\n",
            "Opponents' WR: 0.5555555555555556\n",
            "------------------\n"
          ]
        }
      ]
    },
    {
      "cell_type": "markdown",
      "source": [
        "# Fourth Bracket"
      ],
      "metadata": {
        "id": "X_2NZEOcbnma"
      }
    },
    {
      "cell_type": "markdown",
      "source": [
        "## Generate Bracket"
      ],
      "metadata": {
        "id": "wxxgHuafbnma"
      }
    },
    {
      "cell_type": "code",
      "source": [
        "bracket.generate_bracket()"
      ],
      "metadata": {
        "colab": {
          "base_uri": "https://localhost:8080/"
        },
        "outputId": "9d464847-c61a-4505-82e5-321e4e23fc3e",
        "id": "k7mFLQ4sbnma"
      },
      "execution_count": 365,
      "outputs": [
        {
          "output_type": "stream",
          "name": "stdout",
          "text": [
            "----------------------------------\n",
            "Brackets for Round 4\n",
            "----------------------------------\n",
            "Match Number: 22\n",
            "---Player 1---\n",
            "Name: j\n",
            "ID: 9\n",
            "Games Won: 3\n",
            "Opponents' WR: 0.7222222222222222\n",
            "---Player 2---\n",
            "Name: a\n",
            "ID: 0\n",
            "Games Won: 3\n",
            "Opponents' WR: 0.4444444444444444\n",
            "------------------\n",
            "Match Number: 23\n",
            "---Player 1---\n",
            "Name: n\n",
            "ID: 13\n",
            "Games Won: 2\n",
            "Opponents' WR: 0.6666666666666666\n",
            "---Player 2---\n",
            "Name: l\n",
            "ID: 11\n",
            "Games Won: 2\n",
            "Opponents' WR: 0.6111111111111112\n",
            "------------------\n",
            "Match Number: 24\n",
            "---Player 1---\n",
            "Name: f\n",
            "ID: 5\n",
            "Games Won: 2\n",
            "Opponents' WR: 0.5555555555555556\n",
            "---Player 2---\n",
            "Name: h\n",
            "ID: 7\n",
            "Games Won: 2\n",
            "Opponents' WR: 0.5\n",
            "------------------\n",
            "Match Number: 25\n",
            "---Player 1---\n",
            "Name: e\n",
            "ID: 4\n",
            "Games Won: 2\n",
            "Opponents' WR: 0.2222222222222222\n",
            "---Player 2---\n",
            "Name: c\n",
            "ID: 2\n",
            "Games Won: 1\n",
            "Opponents' WR: 0.7777777777777778\n",
            "------------------\n",
            "Match Number: 26\n",
            "---Player 1---\n",
            "Name: m\n",
            "ID: 12\n",
            "Games Won: 1\n",
            "Opponents' WR: 0.6666666666666666\n",
            "---Player 2---\n",
            "Name: b\n",
            "ID: 1\n",
            "Games Won: 1\n",
            "Opponents' WR: 0.6666666666666666\n",
            "------------------\n",
            "Match Number: 27\n",
            "---Player 1---\n",
            "Name: k\n",
            "ID: 10\n",
            "Games Won: 1\n",
            "Opponents' WR: 0.6666666666666666\n",
            "---Player 2---\n",
            "Name: i\n",
            "ID: 8\n",
            "Games Won: 1\n",
            "Opponents' WR: 0.611111111111111\n",
            "------------------\n",
            "Match Number: 28\n",
            "---Player 1---\n",
            "Name: g\n",
            "ID: 6\n",
            "Games Won: 0\n",
            "Opponents' WR: 0.5555555555555556\n",
            "---BYE---\n",
            "------------------\n",
            "------------------\n"
          ]
        }
      ]
    },
    {
      "cell_type": "markdown",
      "source": [
        "## Report Bracket"
      ],
      "metadata": {
        "id": "0nKXTanubnma"
      }
    },
    {
      "cell_type": "code",
      "source": [
        "results = {22: 9, 23: 13, 24:5, 25: 4, 26: 12, 27: 10, 28: 6}\n",
        "bracket.report_results(results)"
      ],
      "metadata": {
        "colab": {
          "base_uri": "https://localhost:8080/"
        },
        "outputId": "9ec8eb3b-5146-4f8b-e857-9f99726dafa5",
        "id": "E7DxMnIwbnma"
      },
      "execution_count": 366,
      "outputs": [
        {
          "output_type": "stream",
          "name": "stdout",
          "text": [
            "Valid Results, Saving Results\n",
            "Results saved, ready to generate next round or add/drop players\n"
          ]
        },
        {
          "output_type": "execute_result",
          "data": {
            "text/plain": [
              "True"
            ]
          },
          "metadata": {},
          "execution_count": 366
        }
      ]
    },
    {
      "cell_type": "markdown",
      "source": [
        "## Check Results"
      ],
      "metadata": {
        "id": "7AAk7HqQbnma"
      }
    },
    {
      "cell_type": "code",
      "source": [
        "bracket.print_rankings()"
      ],
      "metadata": {
        "colab": {
          "base_uri": "https://localhost:8080/"
        },
        "outputId": "ca479a43-aa62-4966-9943-d32ce36e451f",
        "id": "pfBuZoSVbnma"
      },
      "execution_count": 367,
      "outputs": [
        {
          "output_type": "stream",
          "name": "stdout",
          "text": [
            "------------------\n",
            "1 Ranked\n",
            "Player Name: j\n",
            "Player ID: 9\n",
            "Games Won: 4\n",
            "Rounds Played: 4\n",
            "Opponents' WR: 0.7291666666666666\n",
            "------------------\n",
            "2 Ranked\n",
            "Player Name: n\n",
            "Player ID: 13\n",
            "Games Won: 3\n",
            "Rounds Played: 3\n",
            "Opponents' WR: 0.5833333333333334\n",
            "------------------\n",
            "3 Ranked\n",
            "Player Name: a\n",
            "Player ID: 0\n",
            "Games Won: 3\n",
            "Rounds Played: 4\n",
            "Opponents' WR: 0.5625\n",
            "------------------\n",
            "4 Ranked\n",
            "Player Name: f\n",
            "Player ID: 5\n",
            "Games Won: 3\n",
            "Rounds Played: 4\n",
            "Opponents' WR: 0.5208333333333334\n",
            "------------------\n",
            "5 Ranked\n",
            "Player Name: e\n",
            "Player ID: 4\n",
            "Games Won: 3\n",
            "Rounds Played: 4\n",
            "Opponents' WR: 0.2708333333333333\n",
            "------------------\n",
            "6 Ranked\n",
            "Player Name: l\n",
            "Player ID: 11\n",
            "Games Won: 2\n",
            "Rounds Played: 4\n",
            "Opponents' WR: 0.7291666666666666\n",
            "------------------\n",
            "7 Ranked\n",
            "Player Name: h\n",
            "Player ID: 7\n",
            "Games Won: 2\n",
            "Rounds Played: 4\n",
            "Opponents' WR: 0.6041666666666666\n",
            "------------------\n",
            "8 Ranked\n",
            "Player Name: k\n",
            "Player ID: 10\n",
            "Games Won: 2\n",
            "Rounds Played: 3\n",
            "Opponents' WR: 0.5\n",
            "------------------\n",
            "9 Ranked\n",
            "Player Name: m\n",
            "Player ID: 12\n",
            "Games Won: 2\n",
            "Rounds Played: 3\n",
            "Opponents' WR: 0.4166666666666667\n",
            "------------------\n",
            "10 Ranked\n",
            "Player Name: c\n",
            "Player ID: 2\n",
            "Games Won: 1\n",
            "Rounds Played: 4\n",
            "Opponents' WR: 0.6875\n",
            "------------------\n",
            "11 Ranked\n",
            "Player Name: b\n",
            "Player ID: 1\n",
            "Games Won: 1\n",
            "Rounds Played: 4\n",
            "Opponents' WR: 0.6875\n",
            "------------------\n",
            "12 Ranked\n",
            "Player Name: i\n",
            "Player ID: 8\n",
            "Games Won: 1\n",
            "Rounds Played: 4\n",
            "Opponents' WR: 0.6458333333333333\n",
            "------------------\n",
            "13 Ranked\n",
            "Player Name: g\n",
            "Player ID: 6\n",
            "Games Won: 1\n",
            "Rounds Played: 3\n",
            "Opponents' WR: 0.5833333333333334\n",
            "------------------\n"
          ]
        }
      ]
    },
    {
      "cell_type": "markdown",
      "source": [
        "## Check Backup"
      ],
      "metadata": {
        "id": "n8X4V0K1jYBt"
      }
    },
    {
      "cell_type": "code",
      "source": [
        "print(bracket.backup)\n",
        "bracket.save_backup(\"backup.json\")"
      ],
      "metadata": {
        "id": "R9CadoSuja_D",
        "colab": {
          "base_uri": "https://localhost:8080/"
        },
        "outputId": "979771d6-3d85-4624-fd1c-23d4e0f8bb4a"
      },
      "execution_count": 368,
      "outputs": [
        {
          "output_type": "stream",
          "name": "stdout",
          "text": [
            "{'players': {0: 'a', 1: 'b', 2: 'c', 3: 'd', 4: 'e', 5: 'f', 6: 'g', 7: 'h', 8: 'i', 9: 'j', 10: 'k', 11: 'l', 12: 'm', 13: 'n'}, 'brackets': {1: {1: {'Player 1': 0, 'Player 2': 1, 'type': 'match'}, 2: {'Player 1': 2, 'Player 2': 4, 'type': 'match'}, 3: {'Player 1': 5, 'Player 2': 6, 'type': 'match'}, 4: {'Player 1': 7, 'Player 2': 8, 'type': 'match'}, 5: {'Player 1': 9, 'Player 2': 10, 'type': 'match'}, 6: {'Player 1': 11, 'Player 2': 12, 'type': 'match'}, 7: {'Player 1': 13, 'Player 2': 'None', 'type': 'bye'}}, 2: {8: {'Player 1': 0, 'Player 2': 2, 'type': 'match'}, 9: {'Player 1': 5, 'Player 2': 7, 'type': 'match'}, 10: {'Player 1': 9, 'Player 2': 11, 'type': 'match'}, 11: {'Player 1': 13, 'Player 2': 1, 'type': 'match'}, 12: {'Player 1': 4, 'Player 2': 6, 'type': 'match'}, 13: {'Player 1': 8, 'Player 2': 10, 'type': 'match'}, 14: {'Player 1': 12, 'Player 2': 'None', 'type': 'bye'}}, 3: {15: {'Player 1': 0, 'Player 2': 5, 'type': 'match'}, 16: {'Player 1': 9, 'Player 2': 13, 'type': 'match'}, 17: {'Player 1': 11, 'Player 2': 2, 'type': 'match'}, 18: {'Player 1': 7, 'Player 2': 12, 'type': 'match'}, 19: {'Player 1': 4, 'Player 2': 8, 'type': 'match'}, 20: {'Player 1': 1, 'Player 2': 6, 'type': 'match'}, 21: {'Player 1': 10, 'Player 2': 'None', 'type': 'bye'}}, 4: {22: {'Player 1': 9, 'Player 2': 0, 'type': 'match'}, 23: {'Player 1': 13, 'Player 2': 11, 'type': 'match'}, 24: {'Player 1': 5, 'Player 2': 7, 'type': 'match'}, 25: {'Player 1': 4, 'Player 2': 2, 'type': 'match'}, 26: {'Player 1': 12, 'Player 2': 1, 'type': 'match'}, 27: {'Player 1': 10, 'Player 2': 8, 'type': 'match'}, 28: {'Player 1': 6, 'Player 2': 'None', 'type': 'bye'}}}, 'drops': {3: {'Name': 'd', 'Round': 0}}, 'results': {0: {1: 0, 2: 2, 3: 5, 4: 7, 5: 9, 6: 11, 7: 13}, 1: {8: 0, 9: 5, 10: 9, 11: 13, 12: 4, 13: 8, 14: 12}, 2: {15: 0, 16: 9, 17: 11, 18: 7, 19: 4, 20: 1, 21: 10}, 3: {22: 9, 23: 13, 24: 5, 25: 4, 26: 12, 27: 10, 28: 6}}}\n",
            "/content/backup.json\n"
          ]
        }
      ]
    },
    {
      "cell_type": "markdown",
      "source": [
        "# Fifth Bracket"
      ],
      "metadata": {
        "id": "qWuNgXd9bpFp"
      }
    },
    {
      "cell_type": "markdown",
      "source": [
        "## Generate Bracket"
      ],
      "metadata": {
        "id": "lSznafQPbpFp"
      }
    },
    {
      "cell_type": "code",
      "source": [
        "bracket.generate_bracket()"
      ],
      "metadata": {
        "colab": {
          "base_uri": "https://localhost:8080/"
        },
        "outputId": "cf33f325-9eec-4105-c093-7c3314eb3f15",
        "id": "DoTYlZDdbpFq"
      },
      "execution_count": null,
      "outputs": [
        {
          "output_type": "stream",
          "name": "stdout",
          "text": [
            "----------------------------------\n",
            "Brackets for Round 2\n",
            "----------------------------------\n",
            "Match Number: 8\n",
            "---Player 1---\n",
            "Name: a\n",
            "ID: 0\n",
            "Games Won: 1\n",
            "Opponents' WR: 0.0\n",
            "---Player 2---\n",
            "Name: c\n",
            "ID: 2\n",
            "Games Won: 1\n",
            "Opponents' WR: 0.0\n",
            "------------------\n",
            "Match Number: 9\n",
            "---Player 1---\n",
            "Name: f\n",
            "ID: 5\n",
            "Games Won: 1\n",
            "Opponents' WR: 0.0\n",
            "---Player 2---\n",
            "Name: h\n",
            "ID: 7\n",
            "Games Won: 1\n",
            "Opponents' WR: 0.0\n",
            "------------------\n",
            "Match Number: 10\n",
            "---Player 1---\n",
            "Name: j\n",
            "ID: 9\n",
            "Games Won: 1\n",
            "Opponents' WR: 0.0\n",
            "---Player 2---\n",
            "Name: l\n",
            "ID: 11\n",
            "Games Won: 1\n",
            "Opponents' WR: 0.0\n",
            "------------------\n",
            "Match Number: 11\n",
            "---Player 1---\n",
            "Name: n\n",
            "ID: 13\n",
            "Games Won: 1\n",
            "Opponents' WR: 0\n",
            "---Player 2---\n",
            "Name: b\n",
            "ID: 1\n",
            "Games Won: 0\n",
            "Opponents' WR: 1.0\n",
            "------------------\n",
            "Match Number: 12\n",
            "---Player 1---\n",
            "Name: e\n",
            "ID: 4\n",
            "Games Won: 0\n",
            "Opponents' WR: 1.0\n",
            "---Player 2---\n",
            "Name: g\n",
            "ID: 6\n",
            "Games Won: 0\n",
            "Opponents' WR: 1.0\n",
            "------------------\n",
            "Match Number: 13\n",
            "---Player 1---\n",
            "Name: i\n",
            "ID: 8\n",
            "Games Won: 0\n",
            "Opponents' WR: 1.0\n",
            "---Player 2---\n",
            "Name: k\n",
            "ID: 10\n",
            "Games Won: 0\n",
            "Opponents' WR: 1.0\n",
            "------------------\n",
            "Match Number: 14\n",
            "---Player 1---\n",
            "Name: m\n",
            "ID: 12\n",
            "Games Won: 0\n",
            "Opponents' WR: 1.0\n",
            "---BYE---\n",
            "------------------\n",
            "------------------\n"
          ]
        }
      ]
    },
    {
      "cell_type": "markdown",
      "source": [
        "## Report Bracket"
      ],
      "metadata": {
        "id": "Q5Q6TxuibpFq"
      }
    },
    {
      "cell_type": "code",
      "source": [
        "results = {8: 0, 9: 5, 10:9, 11: 13, 12: 4, 13: 8, 14: 12}\n",
        "bracket.report_results(results)"
      ],
      "metadata": {
        "colab": {
          "base_uri": "https://localhost:8080/"
        },
        "outputId": "f1d685d5-71d1-467f-e065-f94fc27b34c6",
        "id": "alVGKNw1bpFq"
      },
      "execution_count": null,
      "outputs": [
        {
          "output_type": "stream",
          "name": "stdout",
          "text": [
            "Valid Results, Saving Results\n",
            "Results saved, ready to generate next round or add/drop players\n"
          ]
        },
        {
          "output_type": "execute_result",
          "data": {
            "text/plain": [
              "True"
            ]
          },
          "metadata": {},
          "execution_count": 240
        }
      ]
    },
    {
      "cell_type": "markdown",
      "source": [
        "## Check Results"
      ],
      "metadata": {
        "id": "CwAEJGVjbpFq"
      }
    },
    {
      "cell_type": "code",
      "source": [
        "bracket.print_rankings()"
      ],
      "metadata": {
        "colab": {
          "base_uri": "https://localhost:8080/"
        },
        "outputId": "f11bb926-185a-4aa6-c324-9efcc100f5ca",
        "id": "QwxlR_6LbpFq"
      },
      "execution_count": null,
      "outputs": [
        {
          "output_type": "stream",
          "name": "stdout",
          "text": [
            "------------------\n",
            "1 Ranked\n",
            "Player Name: a\n",
            "Player ID: 0\n",
            "Games Won: 2\n",
            "Rounds Played: 2\n",
            "Win Rate: 1.0\n",
            "Opponents' WR: 0.25\n",
            "------------------\n",
            "2 Ranked\n",
            "Player Name: f\n",
            "Player ID: 5\n",
            "Games Won: 2\n",
            "Rounds Played: 2\n",
            "Win Rate: 1.0\n",
            "Opponents' WR: 0.25\n",
            "------------------\n",
            "3 Ranked\n",
            "Player Name: j\n",
            "Player ID: 9\n",
            "Games Won: 2\n",
            "Rounds Played: 2\n",
            "Win Rate: 1.0\n",
            "Opponents' WR: 0.25\n",
            "------------------\n",
            "4 Ranked\n",
            "Player Name: n\n",
            "Player ID: 13\n",
            "Games Won: 2\n",
            "Rounds Played: 2\n",
            "Win Rate: 1.0\n",
            "Opponents' WR: 0.0\n",
            "------------------\n",
            "5 Ranked\n",
            "Player Name: c\n",
            "Player ID: 2\n",
            "Games Won: 1\n",
            "Rounds Played: 2\n",
            "Win Rate: 0.5\n",
            "Opponents' WR: 0.75\n",
            "------------------\n",
            "6 Ranked\n",
            "Player Name: h\n",
            "Player ID: 7\n",
            "Games Won: 1\n",
            "Rounds Played: 2\n",
            "Win Rate: 0.5\n",
            "Opponents' WR: 0.75\n",
            "------------------\n",
            "7 Ranked\n",
            "Player Name: l\n",
            "Player ID: 11\n",
            "Games Won: 1\n",
            "Rounds Played: 2\n",
            "Win Rate: 0.5\n",
            "Opponents' WR: 0.75\n",
            "------------------\n",
            "8 Ranked\n",
            "Player Name: m\n",
            "Player ID: 12\n",
            "Games Won: 1\n",
            "Rounds Played: 2\n",
            "Win Rate: 0.5\n",
            "Opponents' WR: 0.5\n",
            "------------------\n",
            "9 Ranked\n",
            "Player Name: e\n",
            "Player ID: 4\n",
            "Games Won: 1\n",
            "Rounds Played: 2\n",
            "Win Rate: 0.5\n",
            "Opponents' WR: 0.25\n",
            "------------------\n",
            "10 Ranked\n",
            "Player Name: i\n",
            "Player ID: 8\n",
            "Games Won: 1\n",
            "Rounds Played: 2\n",
            "Win Rate: 0.5\n",
            "Opponents' WR: 0.25\n",
            "------------------\n",
            "11 Ranked\n",
            "Player Name: b\n",
            "Player ID: 1\n",
            "Games Won: 0\n",
            "Rounds Played: 2\n",
            "Win Rate: 0.0\n",
            "Opponents' WR: 1.0\n",
            "------------------\n",
            "12 Ranked\n",
            "Player Name: g\n",
            "Player ID: 6\n",
            "Games Won: 0\n",
            "Rounds Played: 2\n",
            "Win Rate: 0.0\n",
            "Opponents' WR: 0.75\n",
            "------------------\n",
            "13 Ranked\n",
            "Player Name: k\n",
            "Player ID: 10\n",
            "Games Won: 0\n",
            "Rounds Played: 2\n",
            "Win Rate: 0.0\n",
            "Opponents' WR: 0.75\n",
            "------------------\n",
            "14 Ranked\n",
            "Player Name: d\n",
            "Player ID: 3\n",
            "Games Won: 0\n",
            "Rounds Played: 0\n",
            "Win Rate: 0\n",
            "Opponents' WR: 0\n",
            "------------------\n"
          ]
        }
      ]
    },
    {
      "cell_type": "code",
      "source": [],
      "metadata": {
        "id": "WoPGB4rzbpFq"
      },
      "execution_count": null,
      "outputs": []
    }
  ]
}